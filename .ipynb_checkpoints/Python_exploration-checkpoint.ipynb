{
 "cells": [
  {
   "cell_type": "markdown",
   "metadata": {},
   "source": [
    "The first thing we want to do is read in the data, explore, take a sample and create new variables. "
   ]
  },
  {
   "cell_type": "code",
   "execution_count": 5,
   "metadata": {
    "collapsed": false
   },
   "outputs": [],
   "source": [
    "# initialisation and read the data\n",
    "import os \n",
    "import pandas as pd\n",
    "import random\n",
    "from sklearn.decomposition import PCA\n",
    "os.chdir('/Users/jpmallette/Downloads/')\n",
    "\n",
    "destinations = pd.read_csv(\"destinations.csv\")\n",
    "test = pd.read_csv(\"test.csv\")\n",
    "train = pd.read_csv(\"train.csv\")"
   ]
  },
  {
   "cell_type": "code",
   "execution_count": 10,
   "metadata": {
    "collapsed": true
   },
   "outputs": [],
   "source": [
    "# create some variables useful for downsampling \n",
    "train[\"date_time\"] = pd.to_datetime(train[\"date_time\"])\n",
    "train[\"year\"] = train[\"date_time\"].dt.year\n",
    "train[\"month\"] = train[\"date_time\"].dt.month"
   ]
  },
  {
   "cell_type": "code",
   "execution_count": 8,
   "metadata": {
    "collapsed": false
   },
   "outputs": [
    {
     "data": {
      "text/plain": [
       "(37670293, 24)"
      ]
     },
     "execution_count": 8,
     "metadata": {},
     "output_type": "execute_result"
    }
   ],
   "source": [
    "# quick exploration\n",
    "train.shape"
   ]
  },
  {
   "cell_type": "code",
   "execution_count": 20,
   "metadata": {
    "collapsed": false
   },
   "outputs": [],
   "source": [
    "# test, \n",
    "# sample data preparation\n",
    "def draw_sample(df,row):\n",
    "\n",
    "    unique_users = train.user_id.unique()\n",
    "\n",
    "    sel_user_ids = [unique_users[i] for i in sorted(random.sample(range(len(unique_users)), row)) ]\n",
    "    sel_train = train[train.user_id.isin(sel_user_ids)]\n",
    "\n",
    "    sample_train = sel_train[((sel_train.year == 2013) | ((sel_train.year == 2014) & (sel_train.month < 8)))]\n",
    "    sample_test = sel_train[((sel_train.year == 2014) & (sel_train.month >= 8))]\n",
    "\n",
    "    # remove click events\n",
    "    sample_test = sample_test[sample_test.is_booking == True]\n",
    "    return sample_train,sample_test\n",
    "\n",
    "# draw the sample\n",
    "sample_train, sample_test = draw_sample(train,10000)"
   ]
  },
  {
   "cell_type": "code",
   "execution_count": null,
   "metadata": {
    "collapsed": true
   },
   "outputs": [],
   "source": [
    "Create new variables "
   ]
  },
  {
   "cell_type": "code",
   "execution_count": null,
   "metadata": {
    "collapsed": false
   },
   "outputs": [],
   "source": [
    "# temp asignment\n",
    "# sample_train.loc[:,'srch_children_cnt'].iloc[0]\n",
    "# bad and slow coding : help would be appreciated\n",
    "\n",
    "# number of people in trip categorisation\n",
    "sample_train[\"nb_person\"] =  sample_train['srch_adults_cnt'] + sample_train['srch_children_cnt']\n",
    "\n",
    "# family variables\n",
    "df['family'] = df['site_name']\n",
    "\n",
    "for row in range(len(sample_train)):    \n",
    "    if df['srch_adults_cnt'].iloc[row] == 1 & df['srch_children_cnt'].iloc[row] == 0:\n",
    "        df['family'].iloc[row] = 'single'\n",
    "    elif df['srch_adults_cnt'].iloc[row] == 1 & df['srch_children_cnt'].iloc[row] == 1:\n",
    "        df['family'].iloc[row] = 'monoparental'\n",
    "    elif df['srch_adults_cnt'].iloc[row] == 2 & df['srch_children_cnt'].iloc[row] == 0:\n",
    "        df['family'].iloc[row] = 'couple'\n",
    "    elif df['srch_adults_cnt'].iloc[row] == 2 & (df['srch_children_cnt'].iloc[row] == 1 | \n",
    "                                                 df['srch_children_cnt'].iloc[row] == 2 |\n",
    "                                                 df['srch_children_cnt'].iloc[row] == 3 | \n",
    "                                                 df['srch_children_cnt'].iloc[row] == 4):\n",
    "        df['family'].iloc[row] = 'family'\n",
    "    else:\n",
    "        df['family'].iloc[row] = 'group'\n",
    "    print(row)"
   ]
  },
  {
   "cell_type": "code",
   "execution_count": null,
   "metadata": {
    "collapsed": true
   },
   "outputs": [],
   "source": [
    "# number of person\n",
    "def peron_features(df):\n",
    "\n",
    "    # number of people in trip categorisation\n",
    "    df[\"nb_person\"] =  df['srch_adults_cnt'] + df['srch_children_cnt']\n",
    "\n",
    "    # number of people in trip categorisation\n",
    "    df[\"family\"] = 'temp'\n",
    "    single = df['nb_person'] == 1 \n",
    "    monoparental = df['srch_adults_cnt'] == 1 & df['srch_children_cnt'] == 1\n",
    "    couple = df['srch_adults_cnt'] == 2 & df['srch_children_cnt'] == 0\n",
    "    family = df['srch_adults_cnt'] == 2 & (df['srch_children_cnt'] == 1 | df['srch_children_cnt'] == 2 \n",
    "                                               | df['srch_children_cnt'] == 3 | df['srch_children_cnt'] == 4)\n",
    "    group = df[\"nb_person\"] > 6\n",
    "\n",
    "    df.loc[single, 'family'] = \"single\"\n",
    "    df.loc[monoparental, 'family'] = \"monoparental\"\n",
    "    df.loc[couple, 'family'] = \"couple\"\n",
    "    df.loc[family, 'family'] = \"family\"                                        \n",
    "    df.loc[group, 'family'] = \"group\"\n",
    "                                           \n",
    "    return df[\"nb_person\"], df[\"family\"]\n",
    "    \n",
    "# duration of stay in days\n",
    "\n",
    "def calc_fast_features(df):\n",
    "    df[\"date_time\"] = pd.to_datetime(df[\"date_time\"])\n",
    "    df[\"srch_ci\"] = pd.to_datetime(df[\"srch_ci\"], format='%Y-%m-%d', errors=\"coerce\")\n",
    "    df[\"srch_co\"] = pd.to_datetime(df[\"srch_co\"], format='%Y-%m-%d', errors=\"coerce\")\n",
    "    \n",
    "    props = {}\n",
    "    for prop in [\"month\", \"day\", \"hour\", \"minute\", \"dayofweek\", \"quarter\"]:\n",
    "        props[prop] = getattr(df[\"date_time\"].dt, prop)\n",
    "    \n",
    "    carryover = [p for p in df.columns if p not in [\"date_time\", \"srch_ci\", \"srch_co\"]]\n",
    "    for prop in carryover:\n",
    "        props[prop] = df[prop]\n",
    "    \n",
    "    date_props = [\"month\", \"day\", \"dayofweek\", \"quarter\"]\n",
    "    for prop in date_props:\n",
    "        props[\"ci_{0}\".format(prop)] = getattr(df[\"srch_ci\"].dt, prop)\n",
    "        props[\"co_{0}\".format(prop)] = getattr(df[\"srch_co\"].dt, prop)\n",
    "    props[\"stay_span\"] = (df[\"srch_co\"] - df[\"srch_ci\"]).astype('timedelta64[h]')\n",
    "        \n",
    "    ret = pd.DataFrame(props)\n",
    "    \n",
    "    ret = ret.join(dest_small, on=\"srch_destination_id\", how='left', rsuffix=\"dest\")\n",
    "    ret = ret.drop(\"srch_destination_iddest\", axis=1)\n",
    "    return ret\n",
    "\n",
    "df = calc_fast_features(t1)\n",
    "df.fillna(-1, inplace=True)\n",
    "                                        \n",
    "# PCA \n",
    "\n",
    "pca = PCA(n_components=3)\n",
    "dest_small = pca.fit_transform(destinations[[\"d{0}\".format(i + 1) for i in range(149)]])\n",
    "dest_small = pd.DataFrame(dest_small)\n",
    "dest_small[\"srch_destination_id\"] = destinations[\"srch_destination_id\"]"
   ]
  },
  {
   "cell_type": "code",
   "execution_count": 3,
   "metadata": {
    "collapsed": true
   },
   "outputs": [
    {
     "name": "stdout",
     "output_type": "stream",
     "text": [
      "Collecting pip\n",
      "  Downloading pip-8.1.2-py2.py3-none-any.whl (1.2MB)\n",
      "\u001b[K    100% |████████████████████████████████| 1.2MB 545kB/s \n",
      "\u001b[?25hInstalling collected packages: pip\n",
      "  Found existing installation: pip 8.1.1\n",
      "    Uninstalling pip-8.1.1:\n",
      "\u001b[31mException:\n",
      "Traceback (most recent call last):\n",
      "  File \"/Users/jpmallette/anaconda/lib/python2.7/site-packages/pip/basecommand.py\", line 209, in main\n",
      "    status = self.run(options, args)\n",
      "  File \"/Users/jpmallette/anaconda/lib/python2.7/site-packages/pip/commands/install.py\", line 317, in run\n",
      "    prefix=options.prefix_path,\n",
      "  File \"/Users/jpmallette/anaconda/lib/python2.7/site-packages/pip/req/req_set.py\", line 726, in install\n",
      "    requirement.uninstall(auto_confirm=True)\n",
      "  File \"/Users/jpmallette/anaconda/lib/python2.7/site-packages/pip/req/req_install.py\", line 746, in uninstall\n",
      "    paths_to_remove.remove(auto_confirm)\n",
      "  File \"/Users/jpmallette/anaconda/lib/python2.7/site-packages/pip/req/req_uninstall.py\", line 115, in remove\n",
      "    renames(path, new_path)\n",
      "  File \"/Users/jpmallette/anaconda/lib/python2.7/site-packages/pip/utils/__init__.py\", line 267, in renames\n",
      "    shutil.move(old, new)\n",
      "  File \"/Users/jpmallette/anaconda/lib/python2.7/shutil.py\", line 303, in move\n",
      "    os.unlink(src)\n",
      "OSError: [Errno 13] Permission denied: '/Users/jpmallette/anaconda/lib/python2.7/site-packages/pip-8.1.1.dist-info/DESCRIPTION.rst'\u001b[0m\n",
      "\u001b[33mYou are using pip version 8.1.1, however version 8.1.2 is available.\n",
      "You should consider upgrading via the 'pip install --upgrade pip' command.\u001b[0m\n"
     ]
    }
   ],
   "source": [
    "# evaluation for algorithm\n",
    "\n",
    "import ml_metrics as metrics\n",
    "target = [[l] for l in t2[\"hotel_cluster\"]]\n",
    "metrics.mapk(target, predictions, k=5)"
   ]
  },
  {
   "cell_type": "code",
   "execution_count": null,
   "metadata": {
    "collapsed": true
   },
   "outputs": [],
   "source": []
  },
  {
   "cell_type": "code",
   "execution_count": null,
   "metadata": {
    "collapsed": true
   },
   "outputs": [],
   "source": []
  },
  {
   "cell_type": "code",
   "execution_count": null,
   "metadata": {
    "collapsed": true
   },
   "outputs": [],
   "source": []
  }
 ],
 "metadata": {
  "kernelspec": {
   "display_name": "Python 2",
   "language": "python",
   "name": "python2"
  },
  "language_info": {
   "codemirror_mode": {
    "name": "ipython",
    "version": 2
   },
   "file_extension": ".py",
   "mimetype": "text/x-python",
   "name": "python",
   "nbconvert_exporter": "python",
   "pygments_lexer": "ipython2",
   "version": "2.7.11"
  }
 },
 "nbformat": 4,
 "nbformat_minor": 0
}
